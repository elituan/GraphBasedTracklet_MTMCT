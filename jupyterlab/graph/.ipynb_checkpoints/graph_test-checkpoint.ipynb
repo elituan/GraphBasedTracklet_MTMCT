{
 "cells": [
  {
   "cell_type": "code",
   "execution_count": 1,
   "id": "4443d303-6c76-4b36-a326-b8d290558411",
   "metadata": {},
   "outputs": [],
   "source": [
    "import networkx as nx"
   ]
  },
  {
   "cell_type": "code",
   "execution_count": 2,
   "id": "313473c7-3933-4940-8ec7-c67a65c9e543",
   "metadata": {},
   "outputs": [],
   "source": [
    "g = nx.Graph()"
   ]
  },
  {
   "cell_type": "code",
   "execution_count": 3,
   "id": "58402ce7-728f-4fc5-8c00-7aa3348e8e7c",
   "metadata": {},
   "outputs": [
    {
     "data": {
      "text/plain": [
       "<networkx.classes.graph.Graph at 0x7fb9927dba30>"
      ]
     },
     "execution_count": 3,
     "metadata": {},
     "output_type": "execute_result"
    }
   ],
   "source": [
    "g.add_node(1)\n",
    "g"
   ]
  },
  {
   "cell_type": "code",
   "execution_count": 4,
   "id": "9d766063-d44f-4f45-9441-2d854bd4c194",
   "metadata": {},
   "outputs": [],
   "source": [
    "g.add_nodes_from([2,3])"
   ]
  },
  {
   "cell_type": "code",
   "execution_count": 6,
   "id": "35f38f52-e84f-465f-9c0a-9733d540f9e1",
   "metadata": {},
   "outputs": [],
   "source": [
    "g.add_nodes_from([\n",
    "    (4, {\"color\": \"red\"}),\n",
    "    (5, {\"color\": \"green\"}),\n",
    "])"
   ]
  },
  {
   "cell_type": "code",
   "execution_count": 9,
   "id": "92943176-2297-4cf7-8091-a49bb7590fba",
   "metadata": {},
   "outputs": [],
   "source": [
    "H = nx.path_graph(10)\n",
    "g.add_node(H)"
   ]
  },
  {
   "cell_type": "code",
   "execution_count": 10,
   "id": "813d8f46-87a1-4abe-bbfd-b8334ddd97f9",
   "metadata": {},
   "outputs": [
    {
     "data": {
      "text/plain": [
       "NodeDataView({1: {}, 2: {}, 3: {}, 4: {'color': 'red'}, 5: {'color': 'green'}, <networkx.classes.graph.Graph object at 0x7fb992798430>: {}})"
      ]
     },
     "execution_count": 10,
     "metadata": {},
     "output_type": "execute_result"
    }
   ],
   "source": [
    "g.nodes(data=True)"
   ]
  },
  {
   "cell_type": "code",
   "execution_count": 12,
   "id": "694f7a98-2002-4598-bb7d-c1fe0388f652",
   "metadata": {},
   "outputs": [
    {
     "data": {
      "text/plain": [
       "EdgeDataView([])"
      ]
     },
     "execution_count": 12,
     "metadata": {},
     "output_type": "execute_result"
    }
   ],
   "source": [
    "g.edges(data=True)"
   ]
  },
  {
   "cell_type": "code",
   "execution_count": 22,
   "id": "e6f393a3-d86c-4af5-8b62-ef47b337d7bf",
   "metadata": {},
   "outputs": [],
   "source": [
    "g.add_edge(1, 2, distancesasdas = 0.1)\n",
    "e = (2, 3)\n",
    "g.add_edge(*e)"
   ]
  },
  {
   "cell_type": "code",
   "execution_count": 23,
   "id": "523e52c2-cfb4-45be-9191-fc326c102e49",
   "metadata": {},
   "outputs": [
    {
     "data": {
      "text/plain": [
       "EdgeDataView([(1, 2, {'distance': 0.1, 'distancesasdas': 0.1}), (2, 3, {})])"
      ]
     },
     "execution_count": 23,
     "metadata": {},
     "output_type": "execute_result"
    }
   ],
   "source": [
    "g.edges(data=True)"
   ]
  },
  {
   "cell_type": "code",
   "execution_count": 24,
   "id": "da886127-b344-4c5c-b49f-ff430d381f19",
   "metadata": {},
   "outputs": [
    {
     "data": {
      "text/plain": [
       "NodeDataView({1: {}, 2: {}, 3: {}, 4: {'color': 'red'}, 5: {'color': 'green'}, <networkx.classes.graph.Graph object at 0x7fb992798430>: {}})"
      ]
     },
     "execution_count": 24,
     "metadata": {},
     "output_type": "execute_result"
    }
   ],
   "source": [
    "g.nodes(data=True)"
   ]
  },
  {
   "cell_type": "code",
   "execution_count": 27,
   "id": "8f34fb90-3839-4bb8-aa0e-9338e3e728de",
   "metadata": {},
   "outputs": [
    {
     "ename": "NameError",
     "evalue": "name 'cp' is not defined",
     "output_type": "error",
     "traceback": [
      "\u001b[0;31m---------------------------------------------------------------------------\u001b[0m",
      "\u001b[0;31mNameError\u001b[0m                                 Traceback (most recent call last)",
      "\u001b[0;32m/tmp/ipykernel_172/2193404175.py\u001b[0m in \u001b[0;36m<module>\u001b[0;34m\u001b[0m\n\u001b[0;32m----> 1\u001b[0;31m \u001b[0mg\u001b[0m\u001b[0;34m.\u001b[0m\u001b[0madd_node\u001b[0m\u001b[0;34m(\u001b[0m\u001b[0;36m1\u001b[0m\u001b[0;34m,\u001b[0m \u001b[0mcnn_feat\u001b[0m \u001b[0;34m=\u001b[0m \u001b[0mcp\u001b[0m\u001b[0;34m)\u001b[0m\u001b[0;34m\u001b[0m\u001b[0;34m\u001b[0m\u001b[0m\n\u001b[0m",
      "\u001b[0;31mNameError\u001b[0m: name 'cp' is not defined"
     ]
    }
   ],
   "source": [
    "g.add_node(1, cnn_feat = cp)"
   ]
  },
  {
   "cell_type": "code",
   "execution_count": 26,
   "id": "768c55ca-d25d-4017-bb51-888af5b8c728",
   "metadata": {},
   "outputs": [
    {
     "data": {
      "text/plain": [
       "NodeDataView({1: {'cnn_feat': 0.12343}, 2: {}, 3: {}, 4: {'color': 'red'}, 5: {'color': 'green'}, <networkx.classes.graph.Graph object at 0x7fb992798430>: {}})"
      ]
     },
     "execution_count": 26,
     "metadata": {},
     "output_type": "execute_result"
    }
   ],
   "source": [
    "g.nodes(data=True)"
   ]
  },
  {
   "cell_type": "code",
   "execution_count": 30,
   "id": "806cffdb-02d4-43e5-b30d-ea306c5052c3",
   "metadata": {},
   "outputs": [
    {
     "data": {
      "text/plain": [
       "EdgeDataView([(1, 2, {'distance': 0.1, 'distancesasdas': 0.1}), (2, 3, {})])"
      ]
     },
     "execution_count": 30,
     "metadata": {},
     "output_type": "execute_result"
    }
   ],
   "source": [
    "g.edges(data=True)"
   ]
  },
  {
   "cell_type": "code",
   "execution_count": 28,
   "id": "a24c4ea9-9ae9-4d8d-b3b1-0d93eae79d5d",
   "metadata": {},
   "outputs": [
    {
     "data": {
      "text/plain": [
       "[2]"
      ]
     },
     "execution_count": 28,
     "metadata": {},
     "output_type": "execute_result"
    }
   ],
   "source": [
    "list(g.adj[1])"
   ]
  },
  {
   "cell_type": "code",
   "execution_count": 32,
   "id": "3e124c32-8736-457e-84ab-35d2d9dd98d1",
   "metadata": {},
   "outputs": [],
   "source": [
    "nx.write_gpickle(g, 'test_g.gpickle')"
   ]
  },
  {
   "cell_type": "code",
   "execution_count": 35,
   "id": "fd53038b-5588-444e-b5bf-c4ee0b9de3f6",
   "metadata": {},
   "outputs": [
    {
     "data": {
      "text/plain": [
       "NodeDataView({1: {'cnn_feat': 0.12343}, 2: {}, 3: {}, 4: {'color': 'red'}, 5: {'color': 'green'}, <networkx.classes.graph.Graph object at 0x7fb9918e5c40>: {}})"
      ]
     },
     "execution_count": 35,
     "metadata": {},
     "output_type": "execute_result"
    },
    {
     "name": "stderr",
     "output_type": "stream",
     "text": [
      "Error in atexit._run_exitfuncs:\n",
      "Traceback (most recent call last):\n",
      "  File \"/home/eli/.local/lib/python3.8/site-packages/IPython/core/interactiveshell.py\", line 3794, in atexit_operations\n",
      "    self.history_manager.end_session()\n",
      "  File \"/home/eli/.local/lib/python3.8/site-packages/IPython/core/history.py\", line 576, in end_session\n",
      "    self.db.execute(\"\"\"UPDATE sessions SET end=?, num_cmds=? WHERE\n",
      "sqlite3.OperationalError: disk I/O error\n"
     ]
    }
   ],
   "source": [
    "new_g = nx.read_gpickle('test_g.gpickle')\n",
    "new_g.nodes(data=True)"
   ]
  }
 ],
 "metadata": {
  "kernelspec": {
   "display_name": "Python 3 (ipykernel)",
   "language": "python",
   "name": "python3"
  },
  "language_info": {
   "codemirror_mode": {
    "name": "ipython",
    "version": 3
   },
   "file_extension": ".py",
   "mimetype": "text/x-python",
   "name": "python",
   "nbconvert_exporter": "python",
   "pygments_lexer": "ipython3",
   "version": "3.8.10"
  }
 },
 "nbformat": 4,
 "nbformat_minor": 5
}
