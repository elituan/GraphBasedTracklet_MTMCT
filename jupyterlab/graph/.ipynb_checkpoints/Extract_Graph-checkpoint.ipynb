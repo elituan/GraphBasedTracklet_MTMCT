{
 "cells": [
  {
   "cell_type": "code",
   "execution_count": 1,
   "id": "d8a07df7-7ff2-460a-9d53-97443b3df9b3",
   "metadata": {},
   "outputs": [],
   "source": [
    "import networkx as nx"
   ]
  },
  {
   "cell_type": "code",
   "execution_count": null,
   "id": "3e051a6f-6d7b-4209-af28-24b38144f5af",
   "metadata": {},
   "outputs": [],
   "source": [
    "def create_graph():\n",
    "    pass\n",
    "def save_graph():\n",
    "    pass\n",
    "\n",
    "for i in data:\n",
    "    g = create_graph()\n",
    "    save_graph(g)\n"
   ]
  },
  {
   "cell_type": "code",
   "execution_count": null,
   "id": "8b3e2c74-51a0-4459-9de2-06837c2cd1f4",
   "metadata": {},
   "outputs": [],
   "source": []
  }
 ],
 "metadata": {
  "kernelspec": {
   "display_name": "Python 3 (ipykernel)",
   "language": "python",
   "name": "python3"
  },
  "language_info": {
   "codemirror_mode": {
    "name": "ipython",
    "version": 3
   },
   "file_extension": ".py",
   "mimetype": "text/x-python",
   "name": "python",
   "nbconvert_exporter": "python",
   "pygments_lexer": "ipython3",
   "version": "3.8.10"
  }
 },
 "nbformat": 4,
 "nbformat_minor": 5
}
